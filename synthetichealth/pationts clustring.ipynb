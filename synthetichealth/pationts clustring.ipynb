{
 "cells": [
  {
   "cell_type": "markdown",
   "metadata": {},
   "source": [
    "# Important Imports"
   ]
  },
  {
   "cell_type": "code",
   "execution_count": 10,
   "metadata": {},
   "outputs": [],
   "source": [
    "import numpy as np\n",
    "import pandas as pd\n",
    "\n",
    "pd.set_option('display.max_rows', 500)\n",
    "pd.set_option('display.max_columns', 500)\n",
    "pd.set_option('display.width', 1000)"
   ]
  },
  {
   "cell_type": "markdown",
   "metadata": {},
   "source": [
    "### Business Question: Cluster pationts in a similer clusters\n",
    "### Every row reprisents a pationt"
   ]
  },
  {
   "cell_type": "markdown",
   "metadata": {},
   "source": [
    "# Load Data"
   ]
  },
  {
   "cell_type": "code",
   "execution_count": 8,
   "metadata": {},
   "outputs": [],
   "source": [
    "patients = pd.read_csv(\"../synthetichealth/Data/patients.csv\")\n",
    "conditions = pd.read_csv(\"../synthetichealth/Data/conditions.csv\")\n",
    "careplans = pd.read_csv(\"../synthetichealth/Data/careplans.csv\")\n",
    "observations = pd.read_csv(\"../synthetichealth/Data/observations.csv\")\n",
    "encounters = pd.read_csv(\"../synthetichealth/Data/encounters.csv\")\n",
    "procedures = pd.read_csv(\"../synthetichealth/Data/procedures.csv\")\n",
    "immunizations = pd.read_csv(\"../synthetichealth/Data/immunizations.csv\")\n",
    "medications = pd.read_csv(\"../synthetichealth/Data/medications.csv\")"
   ]
  },
  {
   "cell_type": "code",
   "execution_count": 11,
   "metadata": {},
   "outputs": [
    {
     "output_type": "execute_result",
     "data": {
      "text/plain": "                                     Id   BIRTHDATE DEATHDATE          SSN    DRIVERS    PASSPORT PREFIX             FIRST         LAST SUFFIX         MAIDEN MARITAL      RACE        ETHNICITY GENDER                        BIRTHPLACE                        ADDRESS        CITY          STATE            COUNTY     ZIP        LAT        LON  HEALTHCARE_EXPENSES  HEALTHCARE_COVERAGE\n0  d171d808-1f31-4ad3-aba5-e03a2fa921c7  1983-04-03       NaN  999-83-6585  S99914532  X18544570X    Mr.  Marco Antonio298   Hurtado459    NaN            NaN       M  hispanic          mexican      M       La Paz  Baja California  MX                552 Rippin Port      Revere  Massachusetts    Suffolk County  2151.0  42.493847 -70.928585            748893.99              2679.68\n1  3603cd65-53a3-424b-bc82-76204326510d  1977-06-24       NaN  999-62-4132  S99987902  X33240404X    Mr.      Guillermo498   Trantow673    NaN            NaN       M     white            irish      M    Southbridge  Massachusetts  US  1027 Satterfield Spur Unit 67    Richmond  Massachusetts  Berkshire County     NaN  42.390136 -73.324373            870371.41              5316.00\n2  bd512b17-9e68-4b0e-8c5b-980007ecdee1  1991-10-21       NaN  999-65-7753  S99933589  X60093276X    Mr.         Hernán834     Ojeda263    NaN            NaN       M     black        dominican      M  Marigot  Saint Andrew Parish  DM       257 Bradtke Mill Unit 35      Newton  Massachusetts  Middlesex County  2458.0  42.419939 -71.128108            607565.78              2855.62\n3  21dd496c-2fec-4c9c-a0fe-c11ad5b2cdea  2006-12-17       NaN  999-72-6694        NaN         NaN    NaN      Francisco472  Prosacco716    NaN            NaN     NaN     white       portuguese      M              Funchal  Madeira  PT             729 Nienow Gateway    Townsend  Massachusetts  Middlesex County  1469.0  42.698664 -71.614920            323891.14              2919.84\n4  ab3533aa-8230-4608-9f06-4f4673123620  1977-10-14       NaN  999-85-1774  S99964476  X82206403X   Mrs.       Elizabet136     Marks830    NaN  Morissette863       M     white  french_canadian      F      Haverhill  Massachusetts  US   243 Bartoletti Neck Suite 63  Sturbridge  Massachusetts  Worcester County  1507.0  42.110219 -72.049690            870544.88              7831.98",
      "text/html": "<div>\n<style scoped>\n    .dataframe tbody tr th:only-of-type {\n        vertical-align: middle;\n    }\n\n    .dataframe tbody tr th {\n        vertical-align: top;\n    }\n\n    .dataframe thead th {\n        text-align: right;\n    }\n</style>\n<table border=\"1\" class=\"dataframe\">\n  <thead>\n    <tr style=\"text-align: right;\">\n      <th></th>\n      <th>Id</th>\n      <th>BIRTHDATE</th>\n      <th>DEATHDATE</th>\n      <th>SSN</th>\n      <th>DRIVERS</th>\n      <th>PASSPORT</th>\n      <th>PREFIX</th>\n      <th>FIRST</th>\n      <th>LAST</th>\n      <th>SUFFIX</th>\n      <th>MAIDEN</th>\n      <th>MARITAL</th>\n      <th>RACE</th>\n      <th>ETHNICITY</th>\n      <th>GENDER</th>\n      <th>BIRTHPLACE</th>\n      <th>ADDRESS</th>\n      <th>CITY</th>\n      <th>STATE</th>\n      <th>COUNTY</th>\n      <th>ZIP</th>\n      <th>LAT</th>\n      <th>LON</th>\n      <th>HEALTHCARE_EXPENSES</th>\n      <th>HEALTHCARE_COVERAGE</th>\n    </tr>\n  </thead>\n  <tbody>\n    <tr>\n      <th>0</th>\n      <td>d171d808-1f31-4ad3-aba5-e03a2fa921c7</td>\n      <td>1983-04-03</td>\n      <td>NaN</td>\n      <td>999-83-6585</td>\n      <td>S99914532</td>\n      <td>X18544570X</td>\n      <td>Mr.</td>\n      <td>Marco Antonio298</td>\n      <td>Hurtado459</td>\n      <td>NaN</td>\n      <td>NaN</td>\n      <td>M</td>\n      <td>hispanic</td>\n      <td>mexican</td>\n      <td>M</td>\n      <td>La Paz  Baja California  MX</td>\n      <td>552 Rippin Port</td>\n      <td>Revere</td>\n      <td>Massachusetts</td>\n      <td>Suffolk County</td>\n      <td>2151.0</td>\n      <td>42.493847</td>\n      <td>-70.928585</td>\n      <td>748893.99</td>\n      <td>2679.68</td>\n    </tr>\n    <tr>\n      <th>1</th>\n      <td>3603cd65-53a3-424b-bc82-76204326510d</td>\n      <td>1977-06-24</td>\n      <td>NaN</td>\n      <td>999-62-4132</td>\n      <td>S99987902</td>\n      <td>X33240404X</td>\n      <td>Mr.</td>\n      <td>Guillermo498</td>\n      <td>Trantow673</td>\n      <td>NaN</td>\n      <td>NaN</td>\n      <td>M</td>\n      <td>white</td>\n      <td>irish</td>\n      <td>M</td>\n      <td>Southbridge  Massachusetts  US</td>\n      <td>1027 Satterfield Spur Unit 67</td>\n      <td>Richmond</td>\n      <td>Massachusetts</td>\n      <td>Berkshire County</td>\n      <td>NaN</td>\n      <td>42.390136</td>\n      <td>-73.324373</td>\n      <td>870371.41</td>\n      <td>5316.00</td>\n    </tr>\n    <tr>\n      <th>2</th>\n      <td>bd512b17-9e68-4b0e-8c5b-980007ecdee1</td>\n      <td>1991-10-21</td>\n      <td>NaN</td>\n      <td>999-65-7753</td>\n      <td>S99933589</td>\n      <td>X60093276X</td>\n      <td>Mr.</td>\n      <td>Hernán834</td>\n      <td>Ojeda263</td>\n      <td>NaN</td>\n      <td>NaN</td>\n      <td>M</td>\n      <td>black</td>\n      <td>dominican</td>\n      <td>M</td>\n      <td>Marigot  Saint Andrew Parish  DM</td>\n      <td>257 Bradtke Mill Unit 35</td>\n      <td>Newton</td>\n      <td>Massachusetts</td>\n      <td>Middlesex County</td>\n      <td>2458.0</td>\n      <td>42.419939</td>\n      <td>-71.128108</td>\n      <td>607565.78</td>\n      <td>2855.62</td>\n    </tr>\n    <tr>\n      <th>3</th>\n      <td>21dd496c-2fec-4c9c-a0fe-c11ad5b2cdea</td>\n      <td>2006-12-17</td>\n      <td>NaN</td>\n      <td>999-72-6694</td>\n      <td>NaN</td>\n      <td>NaN</td>\n      <td>NaN</td>\n      <td>Francisco472</td>\n      <td>Prosacco716</td>\n      <td>NaN</td>\n      <td>NaN</td>\n      <td>NaN</td>\n      <td>white</td>\n      <td>portuguese</td>\n      <td>M</td>\n      <td>Funchal  Madeira  PT</td>\n      <td>729 Nienow Gateway</td>\n      <td>Townsend</td>\n      <td>Massachusetts</td>\n      <td>Middlesex County</td>\n      <td>1469.0</td>\n      <td>42.698664</td>\n      <td>-71.614920</td>\n      <td>323891.14</td>\n      <td>2919.84</td>\n    </tr>\n    <tr>\n      <th>4</th>\n      <td>ab3533aa-8230-4608-9f06-4f4673123620</td>\n      <td>1977-10-14</td>\n      <td>NaN</td>\n      <td>999-85-1774</td>\n      <td>S99964476</td>\n      <td>X82206403X</td>\n      <td>Mrs.</td>\n      <td>Elizabet136</td>\n      <td>Marks830</td>\n      <td>NaN</td>\n      <td>Morissette863</td>\n      <td>M</td>\n      <td>white</td>\n      <td>french_canadian</td>\n      <td>F</td>\n      <td>Haverhill  Massachusetts  US</td>\n      <td>243 Bartoletti Neck Suite 63</td>\n      <td>Sturbridge</td>\n      <td>Massachusetts</td>\n      <td>Worcester County</td>\n      <td>1507.0</td>\n      <td>42.110219</td>\n      <td>-72.049690</td>\n      <td>870544.88</td>\n      <td>7831.98</td>\n    </tr>\n  </tbody>\n</table>\n</div>"
     },
     "metadata": {},
     "execution_count": 11
    }
   ],
   "source": [
    "patients.head()"
   ]
  },
  {
   "cell_type": "code",
   "execution_count": 12,
   "metadata": {},
   "outputs": [
    {
     "output_type": "execute_result",
     "data": {
      "text/plain": "        START        STOP                               PATIENT                             ENCOUNTER       CODE                       DESCRIPTION\n0  2016-04-14  2016-04-28  d171d808-1f31-4ad3-aba5-e03a2fa921c7  0b4374e8-838d-4289-b491-f44d51360790  444814009        Viral sinusitis (disorder)\n1  1995-08-18         NaN  3603cd65-53a3-424b-bc82-76204326510d  61f6867a-9e58-48e6-87d0-6d9495a81a79   59621000                      Hypertension\n2  2010-02-12  2010-02-19  3603cd65-53a3-424b-bc82-76204326510d  ae97dfe0-c619-44c1-a687-f215d7fac984   10509002       Acute bronchitis (disorder)\n3  1998-10-19  2009-10-26  bd512b17-9e68-4b0e-8c5b-980007ecdee1  e0213a36-1b17-45c9-a233-31e1042e7b28  192127007  Child attention deficit disorder\n4  2009-12-14         NaN  bd512b17-9e68-4b0e-8c5b-980007ecdee1  31bd0967-a973-4eaf-bf40-5ca6eb341eb7   15777000                       Prediabetes",
      "text/html": "<div>\n<style scoped>\n    .dataframe tbody tr th:only-of-type {\n        vertical-align: middle;\n    }\n\n    .dataframe tbody tr th {\n        vertical-align: top;\n    }\n\n    .dataframe thead th {\n        text-align: right;\n    }\n</style>\n<table border=\"1\" class=\"dataframe\">\n  <thead>\n    <tr style=\"text-align: right;\">\n      <th></th>\n      <th>START</th>\n      <th>STOP</th>\n      <th>PATIENT</th>\n      <th>ENCOUNTER</th>\n      <th>CODE</th>\n      <th>DESCRIPTION</th>\n    </tr>\n  </thead>\n  <tbody>\n    <tr>\n      <th>0</th>\n      <td>2016-04-14</td>\n      <td>2016-04-28</td>\n      <td>d171d808-1f31-4ad3-aba5-e03a2fa921c7</td>\n      <td>0b4374e8-838d-4289-b491-f44d51360790</td>\n      <td>444814009</td>\n      <td>Viral sinusitis (disorder)</td>\n    </tr>\n    <tr>\n      <th>1</th>\n      <td>1995-08-18</td>\n      <td>NaN</td>\n      <td>3603cd65-53a3-424b-bc82-76204326510d</td>\n      <td>61f6867a-9e58-48e6-87d0-6d9495a81a79</td>\n      <td>59621000</td>\n      <td>Hypertension</td>\n    </tr>\n    <tr>\n      <th>2</th>\n      <td>2010-02-12</td>\n      <td>2010-02-19</td>\n      <td>3603cd65-53a3-424b-bc82-76204326510d</td>\n      <td>ae97dfe0-c619-44c1-a687-f215d7fac984</td>\n      <td>10509002</td>\n      <td>Acute bronchitis (disorder)</td>\n    </tr>\n    <tr>\n      <th>3</th>\n      <td>1998-10-19</td>\n      <td>2009-10-26</td>\n      <td>bd512b17-9e68-4b0e-8c5b-980007ecdee1</td>\n      <td>e0213a36-1b17-45c9-a233-31e1042e7b28</td>\n      <td>192127007</td>\n      <td>Child attention deficit disorder</td>\n    </tr>\n    <tr>\n      <th>4</th>\n      <td>2009-12-14</td>\n      <td>NaN</td>\n      <td>bd512b17-9e68-4b0e-8c5b-980007ecdee1</td>\n      <td>31bd0967-a973-4eaf-bf40-5ca6eb341eb7</td>\n      <td>15777000</td>\n      <td>Prediabetes</td>\n    </tr>\n  </tbody>\n</table>\n</div>"
     },
     "metadata": {},
     "execution_count": 12
    }
   ],
   "source": [
    "conditions.head()"
   ]
  },
  {
   "cell_type": "code",
   "execution_count": 13,
   "metadata": {},
   "outputs": [
    {
     "output_type": "execute_result",
     "data": {
      "text/plain": "                                     Id       START        STOP                               PATIENT                             ENCOUNTER       CODE                                   DESCRIPTION   REASONCODE                 REASONDESCRIPTION\n0  d6787192-da1d-48ae-a051-89216c95d864  1995-08-18         NaN  3603cd65-53a3-424b-bc82-76204326510d  61f6867a-9e58-48e6-87d0-6d9495a81a79  443402002    Lifestyle education regarding hypertension   59621000.0                      Hypertension\n1  336f5314-bed2-487a-bb08-3d8e364fbe7f  1998-10-19  2009-10-26  bd512b17-9e68-4b0e-8c5b-980007ecdee1  e0213a36-1b17-45c9-a233-31e1042e7b28  386522008  Overactivity/inattention behavior management  192127007.0  Child attention deficit disorder\n2  112010d4-0982-4aeb-9753-2675fa40d291  2010-02-12  2011-09-09  3603cd65-53a3-424b-bc82-76204326510d  ae97dfe0-c619-44c1-a687-f215d7fac984   53950000                           Respiratory therapy   10509002.0       Acute bronchitis (disorder)\n3  19a665ed-215b-4bc6-bec6-9cedb6e5c2e5  2009-12-14         NaN  bd512b17-9e68-4b0e-8c5b-980007ecdee1  31bd0967-a973-4eaf-bf40-5ca6eb341eb7  698360004                 Diabetes self management plan   15777000.0                       Prediabetes\n4  3ef8ba2a-4866-45e6-ad76-6ee515525e78  2014-09-12         NaN  3603cd65-53a3-424b-bc82-76204326510d  88ed9c64-9ab0-46da-9a10-4f896bd57b92  698360004                 Diabetes self management plan   15777000.0                       Prediabetes",
      "text/html": "<div>\n<style scoped>\n    .dataframe tbody tr th:only-of-type {\n        vertical-align: middle;\n    }\n\n    .dataframe tbody tr th {\n        vertical-align: top;\n    }\n\n    .dataframe thead th {\n        text-align: right;\n    }\n</style>\n<table border=\"1\" class=\"dataframe\">\n  <thead>\n    <tr style=\"text-align: right;\">\n      <th></th>\n      <th>Id</th>\n      <th>START</th>\n      <th>STOP</th>\n      <th>PATIENT</th>\n      <th>ENCOUNTER</th>\n      <th>CODE</th>\n      <th>DESCRIPTION</th>\n      <th>REASONCODE</th>\n      <th>REASONDESCRIPTION</th>\n    </tr>\n  </thead>\n  <tbody>\n    <tr>\n      <th>0</th>\n      <td>d6787192-da1d-48ae-a051-89216c95d864</td>\n      <td>1995-08-18</td>\n      <td>NaN</td>\n      <td>3603cd65-53a3-424b-bc82-76204326510d</td>\n      <td>61f6867a-9e58-48e6-87d0-6d9495a81a79</td>\n      <td>443402002</td>\n      <td>Lifestyle education regarding hypertension</td>\n      <td>59621000.0</td>\n      <td>Hypertension</td>\n    </tr>\n    <tr>\n      <th>1</th>\n      <td>336f5314-bed2-487a-bb08-3d8e364fbe7f</td>\n      <td>1998-10-19</td>\n      <td>2009-10-26</td>\n      <td>bd512b17-9e68-4b0e-8c5b-980007ecdee1</td>\n      <td>e0213a36-1b17-45c9-a233-31e1042e7b28</td>\n      <td>386522008</td>\n      <td>Overactivity/inattention behavior management</td>\n      <td>192127007.0</td>\n      <td>Child attention deficit disorder</td>\n    </tr>\n    <tr>\n      <th>2</th>\n      <td>112010d4-0982-4aeb-9753-2675fa40d291</td>\n      <td>2010-02-12</td>\n      <td>2011-09-09</td>\n      <td>3603cd65-53a3-424b-bc82-76204326510d</td>\n      <td>ae97dfe0-c619-44c1-a687-f215d7fac984</td>\n      <td>53950000</td>\n      <td>Respiratory therapy</td>\n      <td>10509002.0</td>\n      <td>Acute bronchitis (disorder)</td>\n    </tr>\n    <tr>\n      <th>3</th>\n      <td>19a665ed-215b-4bc6-bec6-9cedb6e5c2e5</td>\n      <td>2009-12-14</td>\n      <td>NaN</td>\n      <td>bd512b17-9e68-4b0e-8c5b-980007ecdee1</td>\n      <td>31bd0967-a973-4eaf-bf40-5ca6eb341eb7</td>\n      <td>698360004</td>\n      <td>Diabetes self management plan</td>\n      <td>15777000.0</td>\n      <td>Prediabetes</td>\n    </tr>\n    <tr>\n      <th>4</th>\n      <td>3ef8ba2a-4866-45e6-ad76-6ee515525e78</td>\n      <td>2014-09-12</td>\n      <td>NaN</td>\n      <td>3603cd65-53a3-424b-bc82-76204326510d</td>\n      <td>88ed9c64-9ab0-46da-9a10-4f896bd57b92</td>\n      <td>698360004</td>\n      <td>Diabetes self management plan</td>\n      <td>15777000.0</td>\n      <td>Prediabetes</td>\n    </tr>\n  </tbody>\n</table>\n</div>"
     },
     "metadata": {},
     "execution_count": 13
    }
   ],
   "source": [
    "careplans.head()"
   ]
  },
  {
   "cell_type": "code",
   "execution_count": null,
   "metadata": {},
   "outputs": [],
   "source": []
  }
 ],
 "metadata": {
  "language_info": {
   "codemirror_mode": {
    "name": "ipython",
    "version": 3
   },
   "file_extension": ".py",
   "mimetype": "text/x-python",
   "name": "python",
   "nbconvert_exporter": "python",
   "pygments_lexer": "ipython3",
   "version": "3.8.3-final"
  },
  "orig_nbformat": 2,
  "kernelspec": {
   "name": "python38332bit93661760309b44c19bb59ec3cd59f6cc",
   "display_name": "Python 3.8.3 32-bit"
  }
 },
 "nbformat": 4,
 "nbformat_minor": 2
}